{
 "cells": [
  {
   "cell_type": "code",
   "execution_count": 1,
   "id": "eda56c4a",
   "metadata": {},
   "outputs": [],
   "source": [
    "from tensorflow.keras.preprocessing.image import ImageDataGenerator"
   ]
  },
  {
   "cell_type": "code",
   "execution_count": 2,
   "id": "b77a227c",
   "metadata": {},
   "outputs": [],
   "source": [
    "#setting parameter for image data augmentation to the training data. \n",
    "\n",
    "train_datagen = ImageDataGenerator(rescale=1./255,\n",
    "                                    shear_range = 0.1,\n",
    "                                    zoom_range=0.1,\n",
    "                                    horizontal_flip = True)\n"
   ]
  },
  {
   "cell_type": "code",
   "execution_count": 3,
   "id": "42afcf04",
   "metadata": {},
   "outputs": [],
   "source": [
    "#image data augmentation to the testing data.\n",
    "\n",
    "test_datagen = ImageDataGenerator(rescale=1./255)"
   ]
  },
  {
   "cell_type": "code",
   "execution_count": 4,
   "id": "571c0ada",
   "metadata": {},
   "outputs": [],
   "source": [
    "train_folder=\"Desktop/Garbageclassification\"\n",
    "test_folder=\"Desktop/pattu/test\""
   ]
  },
  {
   "cell_type": "code",
   "execution_count": 5,
   "id": "313a54fe",
   "metadata": {},
   "outputs": [
    {
     "name": "stdout",
     "output_type": "stream",
     "text": [
      "Found 2527 images belonging to 6 classes.\n"
     ]
    }
   ],
   "source": [
    "# Generate the training and testing datasets using the flow_from_directory method\n",
    "train_generator = train_datagen.flow_from_directory(\n",
    "    train_folder,\n",
    "    target_size=(128,128),\n",
    "    batch_size=64,\n",
    "    class_mode='categorical'\n",
    ")\n"
   ]
  },
  {
   "cell_type": "code",
   "execution_count": 6,
   "id": "42b8d264",
   "metadata": {},
   "outputs": [
    {
     "name": "stdout",
     "output_type": "stream",
     "text": [
      "Found 782 images belonging to 6 classes.\n"
     ]
    }
   ],
   "source": [
    "test_generator = train_datagen.flow_from_directory(\n",
    "    test_folder,\n",
    "    target_size=(128,128),\n",
    "    batch_size=64,\n",
    "    class_mode='categorical'\n",
    ")\n"
   ]
  },
  {
   "cell_type": "code",
   "execution_count": 7,
   "id": "a126a545",
   "metadata": {},
   "outputs": [],
   "source": [
    "#to define linear initializations import Sequential\n",
    "\n",
    "from tensorflow.keras.models import Sequential\n",
    "\n",
    "#To add Layers import Dense\n",
    "\n",
    "from tensorflow.keras.layers import Dense\n",
    "\n",
    "# to create a convolution kernel import Convolution2D \n",
    "\n",
    "from tensorflow.keras.layers import Conv2D \n",
    "from tensorflow.keras.layers import Convolution2D \n",
    "\n",
    "#Adding Max pooling Layer \n",
    "\n",
    "from tensorflow.keras.layers import MaxPooling2D  \n",
    "\n",
    "#Adding Flatten Layer\n",
    "\n",
    "from tensorflow.keras.layers import Flatten\n",
    "\n",
    "from tensorflow.keras.optimizers import Adam"
   ]
  },
  {
   "cell_type": "code",
   "execution_count": 9,
   "id": "746c026b",
   "metadata": {},
   "outputs": [
    {
     "name": "stdout",
     "output_type": "stream",
     "text": [
      "Model: \"sequential_1\"\n",
      "_________________________________________________________________\n",
      " Layer (type)                Output Shape              Param #   \n",
      "=================================================================\n",
      " conv2d (Conv2D)             (None, 126, 126, 32)      896       \n",
      "                                                                 \n",
      " max_pooling2d (MaxPooling2  (None, 63, 63, 32)        0         \n",
      " D)                                                              \n",
      "                                                                 \n",
      " flatten (Flatten)           (None, 127008)            0         \n",
      "                                                                 \n",
      " dense (Dense)               (None, 150)               19051350  \n",
      "                                                                 \n",
      " dense_1 (Dense)             (None, 68)                10268     \n",
      "                                                                 \n",
      " dense_2 (Dense)             (None, 6)                 414       \n",
      "                                                                 \n",
      "=================================================================\n",
      "Total params: 19062928 (72.72 MB)\n",
      "Trainable params: 19062928 (72.72 MB)\n",
      "Non-trainable params: 0 (0.00 Byte)\n",
      "_________________________________________________________________\n"
     ]
    }
   ],
   "source": [
    "from tensorflow.keras.models import Sequential\n",
    "from tensorflow.keras.layers import Conv2D, MaxPooling2D, Flatten, Dense\n",
    "\n",
    "# Create a Sequential model\n",
    "model = Sequential()\n",
    "\n",
    "# Add the first Convolutional layer with 32 filters and a (3, 3) kernel size\n",
    "model.add(Conv2D(32, kernel_size=(3, 3), input_shape=(128, 128, 3), activation='relu'))\n",
    "\n",
    "# Add a MaxPooling layer with a pool size of (2, 2)\n",
    "model.add(MaxPooling2D(pool_size=(2, 2)))\n",
    "\n",
    "# Flatten the output before feeding it to the Dense layers\n",
    "model.add(Flatten())\n",
    "\n",
    "# Add the first Dense layer with 150 units and ReLU activation\n",
    "model.add(Dense(150, activation='relu'))\n",
    "\n",
    "# Add the second Dense layer with 68 units and ReLU activation\n",
    "model.add(Dense(68, activation='relu'))\n",
    "\n",
    "# Add the final Dense layer with 6 units (6 classes for classification) and softmax activation\n",
    "model.add(Dense(6, activation='softmax'))\n",
    "\n",
    "# Compile the model\n",
    "model.compile(optimizer='adam', loss='categorical_crossentropy', metrics=['accuracy'])\n",
    "\n",
    "# Print the model summary\n",
    "model.summary()"
   ]
  },
  {
   "cell_type": "code",
   "execution_count": 10,
   "id": "e070d72d",
   "metadata": {},
   "outputs": [
    {
     "name": "stdout",
     "output_type": "stream",
     "text": [
      "Epoch 1/30\n",
      "39/39 [==============================] - 72s 2s/step - loss: 3.9591 - accuracy: 0.2520 - val_loss: 1.4492 - val_accuracy: 0.4635\n",
      "Epoch 2/30\n",
      "39/39 [==============================] - 64s 2s/step - loss: 1.3789 - accuracy: 0.4458 - val_loss: 1.2697 - val_accuracy: 0.4987\n",
      "Epoch 3/30\n",
      "39/39 [==============================] - 64s 2s/step - loss: 1.2585 - accuracy: 0.5051 - val_loss: 1.1832 - val_accuracy: 0.5234\n",
      "Epoch 4/30\n",
      "39/39 [==============================] - 64s 2s/step - loss: 1.1317 - accuracy: 0.5700 - val_loss: 1.0503 - val_accuracy: 0.5651\n",
      "Epoch 5/30\n",
      "39/39 [==============================] - 63s 2s/step - loss: 1.0810 - accuracy: 0.5887 - val_loss: 0.9928 - val_accuracy: 0.6198\n",
      "Epoch 6/30\n",
      "39/39 [==============================] - 64s 2s/step - loss: 1.0276 - accuracy: 0.6179 - val_loss: 0.9301 - val_accuracy: 0.6393\n",
      "Epoch 7/30\n",
      "39/39 [==============================] - 64s 2s/step - loss: 0.9701 - accuracy: 0.6374 - val_loss: 0.9217 - val_accuracy: 0.6471\n",
      "Epoch 8/30\n",
      "39/39 [==============================] - 64s 2s/step - loss: 0.9337 - accuracy: 0.6561 - val_loss: 0.9070 - val_accuracy: 0.6419\n",
      "Epoch 9/30\n",
      "39/39 [==============================] - 63s 2s/step - loss: 0.8792 - accuracy: 0.6732 - val_loss: 0.8207 - val_accuracy: 0.6797\n",
      "Epoch 10/30\n",
      "39/39 [==============================] - 63s 2s/step - loss: 0.8544 - accuracy: 0.6870 - val_loss: 0.8152 - val_accuracy: 0.7122\n",
      "Epoch 11/30\n",
      "39/39 [==============================] - 64s 2s/step - loss: 0.8039 - accuracy: 0.7105 - val_loss: 0.7283 - val_accuracy: 0.7070\n",
      "Epoch 12/30\n",
      "39/39 [==============================] - 65s 2s/step - loss: 0.7731 - accuracy: 0.7158 - val_loss: 0.7470 - val_accuracy: 0.7292\n",
      "Epoch 13/30\n",
      "39/39 [==============================] - 64s 2s/step - loss: 0.7535 - accuracy: 0.7316 - val_loss: 0.6705 - val_accuracy: 0.7435\n",
      "Epoch 14/30\n",
      "39/39 [==============================] - 64s 2s/step - loss: 0.7131 - accuracy: 0.7377 - val_loss: 0.6209 - val_accuracy: 0.7747\n",
      "Epoch 15/30\n",
      "39/39 [==============================] - 63s 2s/step - loss: 0.6310 - accuracy: 0.7743 - val_loss: 0.6181 - val_accuracy: 0.7786\n",
      "Epoch 16/30\n",
      "39/39 [==============================] - 63s 2s/step - loss: 0.6314 - accuracy: 0.7734 - val_loss: 0.5635 - val_accuracy: 0.8203\n",
      "Epoch 17/30\n",
      "39/39 [==============================] - 64s 2s/step - loss: 0.6203 - accuracy: 0.7783 - val_loss: 0.6970 - val_accuracy: 0.7435\n",
      "Epoch 18/30\n",
      "39/39 [==============================] - 64s 2s/step - loss: 0.5983 - accuracy: 0.7869 - val_loss: 0.5648 - val_accuracy: 0.7917\n",
      "Epoch 19/30\n",
      "39/39 [==============================] - 64s 2s/step - loss: 0.5440 - accuracy: 0.8145 - val_loss: 0.5185 - val_accuracy: 0.8151\n",
      "Epoch 20/30\n",
      "39/39 [==============================] - 63s 2s/step - loss: 0.5186 - accuracy: 0.8165 - val_loss: 0.4827 - val_accuracy: 0.8333\n",
      "Epoch 21/30\n",
      "39/39 [==============================] - 63s 2s/step - loss: 0.5179 - accuracy: 0.8128 - val_loss: 0.4813 - val_accuracy: 0.8346\n",
      "Epoch 22/30\n",
      "39/39 [==============================] - 64s 2s/step - loss: 0.4485 - accuracy: 0.8494 - val_loss: 0.4404 - val_accuracy: 0.8451\n",
      "Epoch 23/30\n",
      "39/39 [==============================] - 64s 2s/step - loss: 0.4384 - accuracy: 0.8469 - val_loss: 0.4074 - val_accuracy: 0.8620\n",
      "Epoch 24/30\n",
      "39/39 [==============================] - 64s 2s/step - loss: 0.3893 - accuracy: 0.8644 - val_loss: 0.4005 - val_accuracy: 0.8568\n",
      "Epoch 25/30\n",
      "39/39 [==============================] - 64s 2s/step - loss: 0.4100 - accuracy: 0.8648 - val_loss: 0.3520 - val_accuracy: 0.8854\n",
      "Epoch 26/30\n",
      "39/39 [==============================] - 64s 2s/step - loss: 0.3732 - accuracy: 0.8823 - val_loss: 0.3368 - val_accuracy: 0.8945\n",
      "Epoch 27/30\n",
      "39/39 [==============================] - 65s 2s/step - loss: 0.3632 - accuracy: 0.8782 - val_loss: 0.3210 - val_accuracy: 0.9023\n",
      "Epoch 28/30\n",
      "39/39 [==============================] - 64s 2s/step - loss: 0.3335 - accuracy: 0.8940 - val_loss: 0.2969 - val_accuracy: 0.9062\n",
      "Epoch 29/30\n",
      "39/39 [==============================] - 65s 2s/step - loss: 0.3352 - accuracy: 0.8944 - val_loss: 0.3138 - val_accuracy: 0.8854\n",
      "Epoch 30/30\n",
      "39/39 [==============================] - 64s 2s/step - loss: 0.2727 - accuracy: 0.9135 - val_loss: 0.3214 - val_accuracy: 0.8880\n"
     ]
    }
   ],
   "source": [
    "res = model.fit(\n",
    "                          train_generator,\n",
    "                          steps_per_epoch=2527//64, \n",
    "                          validation_steps=782//64,\n",
    "                          epochs=30,\n",
    "                          validation_data=test_generator)"
   ]
  },
  {
   "cell_type": "code",
   "execution_count": 11,
   "id": "674fb56b",
   "metadata": {},
   "outputs": [
    {
     "name": "stderr",
     "output_type": "stream",
     "text": [
      "C:\\Users\\ASUS\\anaconda3\\lib\\site-packages\\keras\\src\\engine\\training.py:3000: UserWarning: You are saving your model as an HDF5 file via `model.save()`. This file format is considered legacy. We recommend using instead the native Keras format, e.g. `model.save('my_model.keras')`.\n",
      "  saving_api.save_model(\n"
     ]
    }
   ],
   "source": [
    "model.save('Garbage1.h5')"
   ]
  },
  {
   "cell_type": "code",
   "execution_count": 2,
   "id": "7a209263",
   "metadata": {},
   "outputs": [],
   "source": [
    "import numpy as np\n",
    "from tensorflow.keras.models import load_model\n",
    "\n",
    "# Load the trained model\n",
    "model = load_model('Garbage.h5')\n",
    "\n"
   ]
  },
  {
   "cell_type": "code",
   "execution_count": 3,
   "id": "c4978010",
   "metadata": {},
   "outputs": [],
   "source": [
    "from tensorflow.keras.preprocessing import image"
   ]
  },
  {
   "cell_type": "code",
   "execution_count": 4,
   "id": "058f82bd",
   "metadata": {},
   "outputs": [],
   "source": [
    "img = image.load_img(r\"glass9.jpg\", target_size=(128,128))\n",
    "\n",
    "x=image.img_to_array(img) #converting in to array format\n",
    "\n",
    "x=np.expand_dims (x, axis=0) #changing its dimensions as per our requirement #img_data=preprocess_input(x)\n"
   ]
  },
  {
   "cell_type": "code",
   "execution_count": 5,
   "id": "83202241",
   "metadata": {},
   "outputs": [
    {
     "name": "stdout",
     "output_type": "stream",
     "text": [
      "1/1 [==============================] - 0s 474ms/step\n"
     ]
    }
   ],
   "source": [
    "#img_data.shape\n",
    "\n",
    "a=np.argmax(model.predict(x), axis=1)\n"
   ]
  },
  {
   "cell_type": "code",
   "execution_count": 10,
   "id": "a786a445",
   "metadata": {},
   "outputs": [
    {
     "data": {
      "text/plain": [
       "'1'"
      ]
     },
     "execution_count": 10,
     "metadata": {},
     "output_type": "execute_result"
    }
   ],
   "source": [
    "index = ['0','1','2','3','4','5']\n",
    "result = str(index[a[0]])\n",
    "result"
   ]
  },
  {
   "cell_type": "code",
   "execution_count": 9,
   "id": "5619d9c3",
   "metadata": {},
   "outputs": [
    {
     "name": "stdout",
     "output_type": "stream",
     "text": [
      "GLASS\n"
     ]
    },
    {
     "data": {
      "image/png": "[encoded data removed]",
      "text/plain": [
       "<PIL.Image.Image image mode=RGB size=128x128 at 0x288A89B2850>"
      ]
     },
     "execution_count": 9,
     "metadata": {},
     "output_type": "execute_result"
    }
   ],
   "source": [
    "index1 = ['CARDBOARD','GLASS','METAL','PAPER','PLASTIC','TRASH']\n",
    "result1 = str(index1[a[0]])\n",
    "print(result1)\n",
    "img"
   ]
  },
  {
   "cell_type": "code",
   "execution_count": null,
   "id": "c58deda6",
   "metadata": {},
   "outputs": [],
   "source": []
  }
 ],
 "metadata": {
  "kernelspec": {
   "display_name": "Python 3 (ipykernel)",
   "language": "python",
   "name": "python3"
  },
  "language_info": {
   "codemirror_mode": {
    "name": "ipython",
    "version": 3
   },
   "file_extension": ".py",
   "mimetype": "text/x-python",
   "name": "python",
   "nbconvert_exporter": "python",
   "pygments_lexer": "ipython3",
   "version": "3.9.12"
  }
 },
 "nbformat": 4,
 "nbformat_minor": 5
}
