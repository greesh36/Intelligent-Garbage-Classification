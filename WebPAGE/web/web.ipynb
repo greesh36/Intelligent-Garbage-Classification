{
 "cells": [
  {
   "cell_type": "code",
   "execution_count": 1,
   "id": "2b3c6208",
   "metadata": {},
   "outputs": [
    {
     "name": "stdout",
     "output_type": "stream",
     "text": [
      " * Serving Flask app \"__main__\" (lazy loading)\n",
      " * Environment: production\n",
      "\u001b[31m   WARNING: This is a development server. Do not use it in a production deployment.\u001b[0m\n",
      "\u001b[2m   Use a production WSGI server instead.\u001b[0m\n",
      " * Debug mode: on\n"
     ]
    },
    {
     "name": "stderr",
     "output_type": "stream",
     "text": [
      " * Restarting with watchdog (windowsapi)\n"
     ]
    },
    {
     "ename": "SystemExit",
     "evalue": "1",
     "output_type": "error",
     "traceback": [
      "An exception has occurred, use %tb to see the full traceback.\n",
      "\u001b[1;31mSystemExit\u001b[0m\u001b[1;31m:\u001b[0m 1\n"
     ]
    },
    {
     "name": "stderr",
     "output_type": "stream",
     "text": [
      "C:\\Users\\ASUS\\anaconda3\\lib\\site-packages\\IPython\\core\\interactiveshell.py:3377: UserWarning: To exit: use 'exit', 'quit', or Ctrl-D.\n",
      "  warn(\"To exit: use 'exit', 'quit', or Ctrl-D.\", stacklevel=1)\n"
     ]
    }
   ],
   "source": [
    "import os\n",
    "from flask import Flask, render_template, request\n",
    "from tensorflow.keras.models import load_model\n",
    "from tensorflow.keras.preprocessing import image\n",
    "import numpy as np\n",
    "\n",
    "app = Flask(__name__)\n",
    "\n",
    "# Load your pre-trained model here. Replace 'path/to/your/model.h5' with the actual path.\n",
    "model = load_model('Garbage.h5')\n",
    "\n",
    "@app.route('/', methods=['GET'])\n",
    "def index():\n",
    "    # Main page: Renders index.html template\n",
    "    return render_template('index.html')\n",
    "\n",
    "@app.route('/Image', methods=['POST', 'GET'])\n",
    "def prediction():\n",
    "    # Image upload page: Renders base.html template\n",
    "    return render_template('base.html')\n",
    "\n",
    "@app.route('/predict', methods=['POST'])\n",
    "def upload():\n",
    "    if request.method == 'POST':\n",
    "        # Get the image file from the POST request\n",
    "        f = request.files['image']\n",
    "\n",
    "        # Save the file to ./predictions directory\n",
    "        basepath = os.path.dirname(__file__)\n",
    "        file_path = os.path.join(basepath, 'predictions', f.filename)\n",
    "        f.save(file_path)\n",
    "\n",
    "        # Load and preprocess the image\n",
    "        img = image.load_img(file_path, target_size=(128, 128))\n",
    "        x = image.img_to_array(img)\n",
    "        x = np.expand_dims(x, axis=0)\n",
    "\n",
    "        # Make predictions using the pre-trained model\n",
    "        preds = model.predict(x)\n",
    "        index = ['cardboard', 'glass', 'metal', 'paper', 'plastic', 'trash']\n",
    "        text = \"The Predicted Garbage is: \" + str(index[np.argmax(preds)])\n",
    "\n",
    "        # Render the 'base.html' template with the prediction result\n",
    "        return render_template('base.html', prediction_result=text)\n",
    "\n",
    "# No need to run the app using app.run() here.\n",
    "\n",
    "# If you want to run the app from a Python file, do it from a separate Python script:\n",
    "# Example:\n",
    "# from your_app_file import app\n",
    "# if __name__ == \"__main__\":\n",
    "#     app.run(debug=True)\n",
    "\n",
    "if __name__ == \"__main__\":\n",
    "    app.run(debug=True)\n"
   ]
  },
  {
   "cell_type": "code",
   "execution_count": null,
   "id": "397f68eb",
   "metadata": {},
   "outputs": [],
   "source": []
  }
 ],
 "metadata": {
  "kernelspec": {
   "display_name": "Python 3 (ipykernel)",
   "language": "python",
   "name": "python3"
  },
  "language_info": {
   "codemirror_mode": {
    "name": "ipython",
    "version": 3
   },
   "file_extension": ".py",
   "mimetype": "text/x-python",
   "name": "python",
   "nbconvert_exporter": "python",
   "pygments_lexer": "ipython3",
   "version": "3.9.12"
  }
 },
 "nbformat": 4,
 "nbformat_minor": 5
}
